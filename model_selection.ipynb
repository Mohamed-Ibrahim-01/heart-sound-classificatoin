{
 "cells": [
  {
   "cell_type": "code",
   "execution_count": 3,
   "metadata": {},
   "outputs": [],
   "source": [
    "from sklearn.model_selection import GridSearchCV\n",
    "from sklearn.model_selection import train_test_split\n",
    "from sklearn import svm\n",
    "from sklearn.ensemble import RandomForestClassifier\n",
    "from sklearn.metrics import plot_confusion_matrix\n",
    "import matplotlib.pyplot as plt\n",
    "import numpy as np\n",
    "import scipy.stats\n",
    "import math\n",
    "import librosa\n",
    "import pandas as pd\n",
    "import utils\n",
    "# import segmentation\n",
    "from feature_extraction import construct_dataframe"
   ]
  },
  {
   "cell_type": "code",
   "execution_count": 4,
   "metadata": {},
   "outputs": [
    {
     "name": "stdout",
     "output_type": "stream",
     "text": [
      "--- d:\\SBME_3\\2nd-term\\ml\\heart-sound-classificatoin\\Pascal.zip ---\n"
     ]
    }
   ],
   "source": [
    "data = construct_dataframe()"
   ]
  },
  {
   "cell_type": "code",
   "execution_count": 9,
   "metadata": {},
   "outputs": [],
   "source": [
    "X = data.iloc[:,:-1]\n",
    "y = data.iloc[:,-1]\n",
    "X_train, X_test, y_train, y_test = train_test_split(X, y, test_size=0.25, random_state=0,shuffle=True)\n"
   ]
  },
  {
   "cell_type": "code",
   "execution_count": 10,
   "metadata": {},
   "outputs": [],
   "source": [
    "# SVC GridSearchCV\n",
    "parameters = {'kernel' : ('linear','poly', 'rbf'), 'C':[0.01, 0.1, 0.5, 1, 10]}\n",
    "svc = svm.SVC()\n",
    "clf_svm = GridSearchCV(svc, parameters)\n",
    "clf_svm.fit(X_train,y_train)\n",
    "print(clf_svm.best_params_)"
   ]
  }
 ],
 "metadata": {
  "interpreter": {
   "hash": "bb38d5b4d08a2723439448612af8785ba68ac82fdd75f5df8cb82c641271b800"
  },
  "kernelspec": {
   "display_name": "Python 3.9.0 64-bit",
   "language": "python",
   "name": "python3"
  },
  "language_info": {
   "codemirror_mode": {
    "name": "ipython",
    "version": 3
   },
   "file_extension": ".py",
   "mimetype": "text/x-python",
   "name": "python",
   "nbconvert_exporter": "python",
   "pygments_lexer": "ipython3",
   "version": "3.9.0"
  },
  "orig_nbformat": 4
 },
 "nbformat": 4,
 "nbformat_minor": 2
}
