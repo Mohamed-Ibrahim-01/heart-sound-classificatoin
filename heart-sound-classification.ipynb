{
 "cells": [
  {
   "cell_type": "code",
   "execution_count": 1,
   "id": "e418eea9",
   "metadata": {
    "_cell_guid": "b1076dfc-b9ad-4769-8c92-a6c4dae69d19",
    "_uuid": "8f2839f25d086af736a60e9eeb907d3b93b6e0e5",
    "execution": {
     "iopub.execute_input": "2022-04-25T21:24:32.990745Z",
     "iopub.status.busy": "2022-04-25T21:24:32.990417Z",
     "iopub.status.idle": "2022-04-25T21:24:32.999462Z",
     "shell.execute_reply": "2022-04-25T21:24:32.998732Z"
    },
    "papermill": {
     "duration": 0.016944,
     "end_time": "2022-04-25T21:24:33.001696",
     "exception": false,
     "start_time": "2022-04-25T21:24:32.984752",
     "status": "completed"
    },
    "tags": []
   },
   "outputs": [],
   "source": [
    "import numpy as np\n",
    "import pandas as pd\n",
    "import os"
   ]
  },
  {
   "cell_type": "code",
   "execution_count": null,
   "id": "4c7daf4f",
   "metadata": {
    "papermill": {
     "duration": 0.003281,
     "end_time": "2022-04-25T21:24:33.008829",
     "exception": false,
     "start_time": "2022-04-25T21:24:33.005548",
     "status": "completed"
    },
    "tags": []
   },
   "outputs": [],
   "source": []
  }
 ],
 "metadata": {
  "kernelspec": {
   "display_name": "Python 3",
   "language": "python",
   "name": "python3"
  },
  "language_info": {
   "codemirror_mode": {
    "name": "ipython",
    "version": 3
   },
   "file_extension": ".py",
   "mimetype": "text/x-python",
   "name": "python",
   "nbconvert_exporter": "python",
   "pygments_lexer": "ipython3",
   "version": "3.7.12"
  },
  "papermill": {
   "default_parameters": {},
   "duration": 10.424879,
   "end_time": "2022-04-25T21:24:33.732893",
   "environment_variables": {},
   "exception": null,
   "input_path": "__notebook__.ipynb",
   "output_path": "__notebook__.ipynb",
   "parameters": {},
   "start_time": "2022-04-25T21:24:23.308014",
   "version": "2.3.4"
  }
 },
 "nbformat": 4,
 "nbformat_minor": 5
}
