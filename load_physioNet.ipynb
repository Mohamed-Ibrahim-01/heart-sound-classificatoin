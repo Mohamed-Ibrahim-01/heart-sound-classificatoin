{
 "cells": [
  {
   "cell_type": "code",
   "execution_count": 1,
   "metadata": {},
   "outputs": [
    {
     "name": "stdout",
     "output_type": "stream",
     "text": [
      "[-517.167202730748, -10.395714194796838, 0.9717314136087714, 3.513841226565132, 0.00022178961185437274, -7.34193966707551, 20.07559316759879, 58.81502123519323, -5.640961435138021, -14.835102164942722, 30.470842960827916, -32.68172571986631, 19.193541109704782]\n"
     ]
    },
    {
     "name": "stderr",
     "output_type": "stream",
     "text": [
      "c:\\Users\\Mahmoud Seleem\\AppData\\Local\\Programs\\Python\\Python39\\lib\\site-packages\\librosa\\core\\spectrum.py:222: UserWarning: n_fft=2048 is too small for input signal of length=5\n",
      "  warnings.warn(\n"
     ]
    }
   ],
   "source": [
    "import os\n",
    "from scipy.io import wavfile\n",
    "import pandas as pd\n",
    "import numpy as np\n",
    "from feature_extraction import construct_dataframe\n",
    "import utils"
   ]
  },
  {
   "cell_type": "code",
   "execution_count": 14,
   "metadata": {},
   "outputs": [],
   "source": [
    "def load_physio_dataset(dataset_char,label):\n",
    "    with open(f'training-{dataset_char}\\RECORDS-{label}') as f:\n",
    "        lines = f.readlines()\n",
    "    records = []\n",
    "    for index in range(len(lines)) :\n",
    "        lines[index] = lines[index].strip()\n",
    "        # print(lines[index])\n",
    "        records.append([lines[index],f'training-{dataset_char}{os.sep}{lines[index]}.wav',label])\n",
    "    return records    \n",
    "# dataframe = pd.DataFrame(records, columns=[\"name\", \"path\", \"label\"])\n",
    "# dataframe"
   ]
  },
  {
   "cell_type": "code",
   "execution_count": null,
   "metadata": {},
   "outputs": [],
   "source": [
    "def build_physio_dataframe():\n",
    "    datasets = ['a','b','c','d','e','f']\n",
    "    records = []\n",
    "    for char in datasets:\n",
    "        records.extend(load_physio_dataset(char,'normal'))\n",
    "        records.extend(load_physio_dataset(char,'abnormal'))\n",
    "    return pd.DataFrame(records,columns=[\"name\", \"path\", \"label\"])"
   ]
  },
  {
   "cell_type": "code",
   "execution_count": 17,
   "metadata": {},
   "outputs": [],
   "source": [
    "# @numba.jit(forceobj=True)\n",
    "def add_sound(curr_row, sounds):\n",
    "    _, path, label = tuple(curr_row)\n",
    "    _, sound = wavfile.read(path)\n",
    "    sound = sound.astype(np.float32)\n",
    "    sounds.append([sound, label])\n",
    "    return curr_row"
   ]
  },
  {
   "cell_type": "code",
   "execution_count": 18,
   "metadata": {},
   "outputs": [],
   "source": [
    "def _load_pascal_array(pascal_df):\n",
    "    sounds = []\n",
    "    pascal_df.apply(lambda row : add_sound(row, sounds), axis=1, raw=True)\n",
    "    return np.array(sounds, dtype=object)"
   ]
  },
  {
   "cell_type": "code",
   "execution_count": 19,
   "metadata": {},
   "outputs": [],
   "source": [
    "# sounds  = _load_pascal_array(dataframe)\n"
   ]
  },
  {
   "cell_type": "code",
   "execution_count": 2,
   "metadata": {},
   "outputs": [],
   "source": [
    "dataframe = construct_dataframe('physioNet')"
   ]
  }
 ],
 "metadata": {
  "interpreter": {
   "hash": "bb38d5b4d08a2723439448612af8785ba68ac82fdd75f5df8cb82c641271b800"
  },
  "kernelspec": {
   "display_name": "Python 3.9.0 64-bit",
   "language": "python",
   "name": "python3"
  },
  "language_info": {
   "codemirror_mode": {
    "name": "ipython",
    "version": 3
   },
   "file_extension": ".py",
   "mimetype": "text/x-python",
   "name": "python",
   "nbconvert_exporter": "python",
   "pygments_lexer": "ipython3",
   "version": "3.9.0"
  },
  "orig_nbformat": 4
 },
 "nbformat": 4,
 "nbformat_minor": 2
}
