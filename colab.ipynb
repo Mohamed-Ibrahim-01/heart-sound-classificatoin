{
  "nbformat": 4,
  "nbformat_minor": 0,
  "metadata": {
    "colab": {
      "name": "Untitled1.ipynb",
      "provenance": [],
      "collapsed_sections": []
    },
    "kernelspec": {
      "name": "python3",
      "display_name": "Python 3"
    },
    "language_info": {
      "name": "python"
    },
    "accelerator": "GPU"
  },
  "cells": [
    {
      "cell_type": "code",
      "execution_count": 1,
      "metadata": {
        "id": "Q1f4KCPmi2kl"
      },
      "outputs": [],
      "source": [
        "from sklearn.model_selection import GridSearchCV\n",
        "from sklearn.model_selection import train_test_split\n",
        "from sklearn import svm\n",
        "from sklearn.decomposition import PCA\n",
        "from sklearn.metrics import f1_score\n",
        "from sklearn.preprocessing import StandardScaler,MinMaxScaler\n",
        "from sklearn.ensemble import RandomForestClassifier\n",
        "from sklearn.metrics import plot_confusion_matrix\n",
        "import matplotlib.pyplot as plt\n",
        "import numpy as np\n",
        "import scipy.stats\n",
        "import math\n",
        "import librosa\n",
        "import pandas as pd\n",
        "from sklearn.feature_selection import VarianceThreshold"
      ]
    },
    {
      "cell_type": "code",
      "source": [
        "data = pd.read_csv(\"/content/physioNet.csv\")\n",
        "data = data.drop(columns=[\"Unnamed: 0\"])\n",
        "data"
      ],
      "metadata": {
        "id": "c_jp1TTwi-nO"
      },
      "execution_count": null,
      "outputs": []
    },
    {
      "cell_type": "code",
      "source": [
        "X = data.iloc[:,:-1]\n",
        "y = data.iloc[:,-1]\n",
        "scaler = MinMaxScaler()\n",
        "X = scaler.fit_transform(X)\n",
        "# sel = VarianceThreshold(threshold = (.7 * (1 - .7)))\n",
        "# sel.fit(X)\n",
        "# sel.transform(X)\n",
        "# print(sel)\n",
        "# y[0] = 'murmur'\n",
        "# for index in range(len(y)):\n",
        "#   if y[index] == 'extrasystole':\n",
        "#     y[index] = 'murmur'\n",
        "\n",
        "# print(np.var(X,axis = 0))\n",
        "X_train, X_test, y_train, y_test = train_test_split(X, y, test_size=0.25, random_state=0,shuffle=True)\n",
        "# pca = PCA(n_components= 0.99)\n",
        "# principal_x = pca.fit_transform(X_train)\n",
        "# principal_y = pca.transform(X_test)\n",
        "# print(principal_x.shape)\n",
        "# print(principal_y.shape)\n",
        "# explained_variance = pca.explained_variance_ratio_\n",
        "# print(explained_variance)\n"
      ],
      "metadata": {
        "id": "WA3z0h0yjDYa"
      },
      "execution_count": 4,
      "outputs": []
    },
    {
      "cell_type": "markdown",
      "source": [
        ""
      ],
      "metadata": {
        "id": "MQD_TNfAMyju"
      }
    },
    {
      "cell_type": "code",
      "source": [
        "# principalDf = pd.DataFrame(data = X\n",
        "#              , columns = ['principal component 1', 'principal component 2'])"
      ],
      "metadata": {
        "id": "sMTvcY8ZMASG"
      },
      "execution_count": null,
      "outputs": []
    },
    {
      "cell_type": "code",
      "source": [
        "# SVC GridSearchCV\n",
        "parameters = {'kernel' : ('linear','poly', 'rbf'), 'C':np.arange(20,80,5)}\n",
        "svc = svm.SVC()\n",
        "clf_svm = GridSearchCV(svc, parameters,scoring =\"f1_macro\")\n",
        "clf_svm.fit(X_train,y_train)\n",
        "print(clf_svm.best_params_)"
      ],
      "metadata": {
        "colab": {
          "base_uri": "https://localhost:8080/"
        },
        "id": "grzfVzzvleik",
        "outputId": "c2d116fe-16bb-4dea-c695-4ae0f730ff42"
      },
      "execution_count": 5,
      "outputs": [
        {
          "output_type": "stream",
          "name": "stdout",
          "text": [
            "{'C': 50, 'kernel': 'poly'}\n"
          ]
        }
      ]
    },
    {
      "cell_type": "code",
      "source": [
        "# SVC Classifier\n",
        "svc = svm.SVC(kernel ='poly',C=50)\n",
        "svc.fit(X_train,y_train)\n",
        "print(f\"Training score = {svc.score(X_train,y_train)}\")\n",
        "print(f\"Testing score  = {svc.score(X_test,y_test)}\")\n",
        "predictions = svc.predict(X_test)\n",
        "print(f\"F1 score = {f1_score(y_test,predictions,average = 'macro')}\")\n",
        "plot_confusion_matrix(svc, X_test, y_test) \n",
        "plt.show()"
      ],
      "metadata": {
        "colab": {
          "base_uri": "https://localhost:8080/",
          "height": 390
        },
        "id": "ManKmdOxlt0a",
        "outputId": "edfb943d-bd4d-4f33-893d-6becdc3c5ce7"
      },
      "execution_count": 7,
      "outputs": [
        {
          "output_type": "stream",
          "name": "stdout",
          "text": [
            "Training score = 0.9485714285714286\n",
            "Testing score  = 0.9272727272727272\n",
            "F1 score = 0.8989601329302237\n"
          ]
        },
        {
          "output_type": "stream",
          "name": "stderr",
          "text": [
            "/usr/local/lib/python3.7/dist-packages/sklearn/utils/deprecation.py:87: FutureWarning: Function plot_confusion_matrix is deprecated; Function `plot_confusion_matrix` is deprecated in 1.0 and will be removed in 1.2. Use one of the class methods: ConfusionMatrixDisplay.from_predictions or ConfusionMatrixDisplay.from_estimator.\n",
            "  warnings.warn(msg, category=FutureWarning)\n"
          ]
        },
        {
          "output_type": "display_data",
          "data": {
            "text/plain": [
              "<Figure size 432x288 with 2 Axes>"
            ],
            "image/png": "[encoded data removed]"
          },
          "metadata": {
            "needs_background": "light"
          }
        }
      ]
    },
    {
      "cell_type": "markdown",
      "source": [
        "# New Section"
      ],
      "metadata": {
        "id": "ZaoxFY2gImb0"
      }
    },
    {
      "cell_type": "code",
      "source": [
        "# RFC GridSearchCV\n",
        "rfc = RandomForestClassifier()\n",
        "forest_params = [{'n_estimators':list(range(0, 1000,10)),'max_depth': list(range(3, 15))}]\n",
        "clf_rfc = GridSearchCV(rfc, forest_params, cv = 10, scoring='f1_macro')\n",
        "clf_rfc.fit(X_train, y_train)\n",
        "print(clf_rfc.best_params_)\n"
      ],
      "metadata": {
        "id": "jqX0HcNSpo_p"
      },
      "execution_count": null,
      "outputs": []
    },
    {
      "cell_type": "code",
      "source": [
        "# RFC Classifier\n",
        "rfc = RandomForestClassifier(n_estimators=800, max_depth=6, random_state=0)\n",
        "rfc.fit(X_train,y_train)\n",
        "predictions = rfc.predict(X_test)\n",
        "print(f\"F1 score = {f1_score(y_test,predictions,average = 'macro')}\")\n",
        "# print(f\"Testing score  = {rfc.score(X_test,y_test)}\")\n",
        "plot_confusion_matrix(rfc, X_test, y_test) \n",
        "plt.show()\n"
      ],
      "metadata": {
        "id": "VrHyLm_Qp0zu",
        "colab": {
          "base_uri": "https://localhost:8080/",
          "height": 351
        },
        "outputId": "ffc4271e-5c3e-4045-f88c-e96f222bc23e"
      },
      "execution_count": 9,
      "outputs": [
        {
          "output_type": "stream",
          "name": "stdout",
          "text": [
            "F1 score = 0.868824531516184\n"
          ]
        },
        {
          "output_type": "stream",
          "name": "stderr",
          "text": [
            "/usr/local/lib/python3.7/dist-packages/sklearn/utils/deprecation.py:87: FutureWarning: Function plot_confusion_matrix is deprecated; Function `plot_confusion_matrix` is deprecated in 1.0 and will be removed in 1.2. Use one of the class methods: ConfusionMatrixDisplay.from_predictions or ConfusionMatrixDisplay.from_estimator.\n",
            "  warnings.warn(msg, category=FutureWarning)\n"
          ]
        },
        {
          "output_type": "display_data",
          "data": {
            "text/plain": [
              "<Figure size 432x288 with 2 Axes>"
            ],
            "image/png": "[encoded data removed]"
          },
          "metadata": {
            "needs_background": "light"
          }
        }
      ]
    },
    {
      "cell_type": "code",
      "source": [
        "import xgboost as xgb\n",
        "\n",
        "xgb_cl = xgb.XGBClassifier()\n",
        "xgb_cl.fit(X_train, y_train)\n",
        "preds = xgb_cl.predict(X_test)\n",
        "f1_score(y_test, preds)"
      ],
      "metadata": {
        "id": "zox5x778_V7N"
      },
      "execution_count": null,
      "outputs": []
    }
  ]
}