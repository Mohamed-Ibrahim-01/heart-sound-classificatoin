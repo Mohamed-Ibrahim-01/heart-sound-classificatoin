{
  "cells": [
    {
      "cell_type": "code",
      "execution_count": null,
      "metadata": {
        "id": "Q1f4KCPmi2kl"
      },
      "outputs": [],
      "source": [
        "from sklearn.model_selection import GridSearchCV\n",
        "from sklearn.model_selection import train_test_split\n",
        "from sklearn import svm\n",
        "from sklearn.decomposition import PCA\n",
        "from sklearn.metrics import f1_score\n",
        "from sklearn.preprocessing import StandardScaler,MinMaxScaler\n",
        "from sklearn.ensemble import RandomForestClassifier\n",
        "from sklearn.metrics import plot_confusion_matrix\n",
        "from sklearn import metrics\n",
        "import matplotlib.pyplot as plt\n",
        "import numpy as np\n",
        "import scipy.stats\n",
        "import math\n",
        "import librosa\n",
        "import pandas as pd\n",
        "from sklearn.feature_selection import VarianceThreshold"
      ]
    },
    {
      "cell_type": "code",
      "execution_count": null,
      "metadata": {
        "colab": {
          "base_uri": "https://localhost:8080/"
        },
        "id": "gRuPfYWQz-IT",
        "outputId": "850460c7-7aaf-4e87-aeff-68730dc0bab6"
      },
      "outputs": [
        {
          "output_type": "stream",
          "name": "stdout",
          "text": [
            "normal      12827\n",
            "abnormal     3922\n",
            "Name: Label, dtype: int64\n",
            "normal      7827\n",
            "abnormal    3922\n",
            "Name: Label, dtype: int64\n",
            "(11749, 26)\n"
          ]
        }
      ],
      "source": [
        "data = pd.read_csv(\"physioNet.csv\")\n",
        "data = data.drop(columns=[\"Unnamed: 0\"])\n",
        "\n",
        "print(data[\"Label\"].value_counts())\n",
        "\n",
        "data = data.sort_values(by='Label', ascending=False)\n",
        "data = data.tail(data.shape[0]-5000)\n",
        "\n",
        "print(data[\"Label\"].value_counts())\n",
        "print(data.shape)\n"
      ]
    },
    {
      "cell_type": "code",
      "execution_count": null,
      "metadata": {
        "id": "WA3z0h0yjDYa"
      },
      "outputs": [],
      "source": [
        "X = data.iloc[:,:-1]\n",
        "y = data.iloc[:,-1]\n",
        "\n",
        "scaler = MinMaxScaler()\n",
        "X = scaler.fit_transform(X)\n",
        "# sel = VarianceThreshold(threshold = (.7 * (1 - .7)))\n",
        "# sel.fit(X)\n",
        "# sel.transform(X)\n",
        "# print(sel)\n",
        "# y[0] = 'murmur'\n",
        "# for index in range(len(y)):\n",
        "#   if y[index] == 'extrasystole':\n",
        "#     y[index] = 'murmur'\n",
        "\n",
        "# print(np.var(X,axis = 0))\n",
        "X_train, X_test, y_train, y_test = train_test_split(X, y, test_size=0.25, random_state=0,shuffle=True)\n",
        "# pca = PCA(n_components= 0.99)\"\n",
        "# principal_x = pca.fit_transform(X_train)\n",
        "# principal_y = pca.transform(X_test)\n",
        "# print(principal_x.shape)\n",
        "# print(principal_y.shape)\n",
        "# explained_variance = pca.explained_variance_ratio_\n",
        "# print(explained_variance)\n"
      ]
    },
    {
      "cell_type": "code",
      "execution_count": null,
      "metadata": {
        "colab": {
          "base_uri": "https://localhost:8080/"
        },
        "id": "grzfVzzvleik",
        "outputId": "0d519f2e-0863-481d-ae6b-0a9c029186ce",
        "tags": []
      },
      "outputs": [
        {
          "output_type": "stream",
          "name": "stdout",
          "text": [
            "{'C': 50, 'kernel': 'rbf'}\n"
          ]
        }
      ],
      "source": [
        "# SVC GridSearchCV\n",
        "parameters = {'kernel' : ('linear','poly', 'rbf'), 'C':np.arange(40,51)}\n",
        "svc = svm.SVC()\n",
        "clf_svm = GridSearchCV(svc, parameters,scoring =\"f1_macro\")\n",
        "clf_svm.fit(X_train,y_train)\n",
        "print(clf_svm.best_params_)"
      ]
    },
    {
      "cell_type": "code",
      "execution_count": null,
      "metadata": {
        "colab": {
          "base_uri": "https://localhost:8080/",
          "height": 331
        },
        "id": "ManKmdOxlt0a",
        "outputId": "0bb5d166-995e-4cab-b8b9-6872ccf9d93a",
        "tags": []
      },
      "outputs": [
        {
          "output_type": "stream",
          "name": "stdout",
          "text": [
            "Training score = 0.9178299852457156\n",
            "Testing score  = 0.8975493533015657\n",
            "F1 score = 0.8878750360558255\n"
          ]
        },
        {
          "output_type": "display_data",
          "data": {
            "text/plain": [
              "<Figure size 432x288 with 2 Axes>"
            ],
            "image/png": "[encoded data removed]"
          },
          "metadata": {
            "needs_background": "light"
          }
        }
      ],
      "source": [
        "# SVC Classifier\n",
        "svc = svm.SVC(kernel ='rbf', C=50)\n",
        "svc.fit(X_train,y_train)\n",
        "print(f\"Training score = {svc.score(X_train,y_train)}\")\n",
        "print(f\"Testing score  = {svc.score(X_test,y_test)}\")\n",
        "predictions = svc.predict(X_test)\n",
        "print(f\"F1 score = {f1_score(y_test,predictions,average = 'macro')}\")\n",
        "metrics.ConfusionMatrixDisplay.from_estimator(svc, X_test, y_test) \n",
        "plt.show()"
      ]
    },
    {
      "cell_type": "markdown",
      "metadata": {
        "id": "ZaoxFY2gImb0"
      },
      "source": [
        "# New Section"
      ]
    },
    {
      "cell_type": "code",
      "execution_count": null,
      "metadata": {
        "id": "jqX0HcNSpo_p"
      },
      "outputs": [],
      "source": [
        "# RFC GridSearchCV\n",
        "rfc = RandomForestClassifier()\n",
        "forest_params = [{'n_estimators':list(range(0, 1000,10)),'max_depth': list(range(3, 15))}]\n",
        "clf_rfc = GridSearchCV(rfc, forest_params, cv = 10, scoring='f1_macro')\n",
        "clf_rfc.fit(X_train, y_train)\n",
        "print(clf_rfc.best_params_)\n"
      ]
    },
    {
      "cell_type": "code",
      "execution_count": null,
      "metadata": {
        "colab": {
          "base_uri": "https://localhost:8080/",
          "height": 351
        },
        "id": "VrHyLm_Qp0zu",
        "outputId": "ffc4271e-5c3e-4045-f88c-e96f222bc23e"
      },
      "outputs": [
        {
          "name": "stdout",
          "output_type": "stream",
          "text": [
            "F1 score = 0.868824531516184\n"
          ]
        },
        {
          "data": {
            "image/png": "[encoded data removed]",
            "text/plain": [
              "<Figure size 432x288 with 2 Axes>"
            ]
          },
          "metadata": {
            "needs_background": "light"
          },
          "output_type": "display_data"
        }
      ],
      "source": [
        "# RFC Classifier\n",
        "rfc = RandomForestClassifier(n_estimators=800, max_depth=6, random_state=0)\n",
        "rfc.fit(X_train[],y_train)\n",
        "predictions = rfc.predict(X_test)\n",
        "print(f\"F1 score = {f1_score(y_test,predictions,average = 'macro')}\")\n",
        "# print(f\"Testing score  = {rfc.score(X_test,y_test)}\")\n",
        "metrics.ConfusionMatrixDisplay.from_estimator(rfc, X_test, y_test) \n",
        "plt.show()\n"
      ]
    },
    {
      "cell_type": "code",
      "execution_count": null,
      "metadata": {
        "id": "zox5x778_V7N"
      },
      "outputs": [],
      "source": [
        "import xgboost as xgb\n",
        "\n",
        "xgb_cl = xgb.XGBClassifier()\n",
        "xgb_cl.fit(X_train, y_train)\n",
        "preds = xgb_cl.predict(X_test)\n",
        "f1_score(y_test, preds)"
      ]
    },
    {
      "cell_type": "code",
      "execution_count": null,
      "metadata": {
        "id": "AV3WAWrlz-Ij",
        "outputId": "a6746d9a-2e11-4126-fcd5-5989b4e79ff1"
      },
      "outputs": [
        {
          "data": {
            "image/png": "[encoded data removed]",
            "text/plain": [
              "<Figure size 432x288 with 1 Axes>"
            ]
          },
          "metadata": {
            "needs_background": "light"
          },
          "output_type": "display_data"
        }
      ],
      "source": [
        "from sklearn import datasets, metrics, model_selection, svm\n",
        "metrics.RocCurveDisplay.from_estimator(svc, X_test, y_test)\n",
        "\n",
        "plt.show()"
      ]
    },
    {
      "cell_type": "code",
      "execution_count": null,
      "metadata": {
        "colab": {
          "base_uri": "https://localhost:8080/",
          "height": 610
        },
        "id": "L8xfqxevz-Il",
        "outputId": "64eea3b1-c33b-41c4-f885-025c6d17b6c8"
      },
      "outputs": [
        {
          "output_type": "stream",
          "name": "stdout",
          "text": [
            "(252,) (252,)\n",
            "Accuracy score = 0.6944444444444444\n",
            "F1 score = 0.5764705882352941\n"
          ]
        },
        {
          "output_type": "execute_result",
          "data": {
            "text/plain": [
              "<sklearn.metrics._plot.roc_curve.RocCurveDisplay at 0x7f74b8257c10>"
            ]
          },
          "metadata": {},
          "execution_count": 76
        },
        {
          "output_type": "display_data",
          "data": {
            "text/plain": [
              "<Figure size 432x288 with 2 Axes>"
            ],
            "image/png": "[encoded data removed]"
          },
          "metadata": {
            "needs_background": "light"
          }
        },
        {
          "output_type": "display_data",
          "data": {
            "text/plain": [
              "<Figure size 432x288 with 1 Axes>"
            ],
            "image/png": "[encoded data removed]"
          },
          "metadata": {
            "needs_background": "light"
          }
        }
      ],
      "source": [
        "pascal_df = pd.read_csv(\"data.csv\")\n",
        "pascal_df = pascal_df.drop(columns=[\"Unnamed: 0\"])\n",
        "\n",
        "pascal_X = pascal_df.iloc[:,:-1]\n",
        "pascal_y = pascal_df.iloc[:,-1]\n",
        "\n",
        "pascal_y = pascal_y.replace({'murmur': \"abnormal\", 'extrasystole': \"normal\"})\n",
        "pascal_X = MinMaxScaler().fit_transform(pascal_X)\n",
        "\n",
        "pascal_predicts = svc.predict(pascal_X)\n",
        "metrics.ConfusionMatrixDisplay.from_estimator(svc, pascal_X, pascal_y) \n",
        "\n",
        "print(pascal_y.shape, pascal_predicts.shape)\n",
        "print(f\"Accuracy score = {metrics.accuracy_score(pascal_y, pascal_predicts)}\")\n",
        "print(f\"F1 score = {f1_score(pascal_y, pascal_predicts, average = 'macro')}\")\n",
        "metrics.RocCurveDisplay.from_estimator(svc, pascal_X, pascal_y)\n",
        "\n"
      ]
    },
    {
      "cell_type": "code",
      "execution_count": null,
      "metadata": {
        "id": "bMQ7HGypz-Io",
        "outputId": "4dbda903-7bab-46ec-86fa-90e4149af5b1"
      },
      "outputs": [
        {
          "data": {
            "text/plain": [
              "0.23012987012987013"
            ]
          },
          "execution_count": 97,
          "metadata": {},
          "output_type": "execute_result"
        }
      ],
      "source": [
        "len(y_test[y_test == 'abnormal']) / len(y_test)"
      ]
    },
    {
      "cell_type": "code",
      "execution_count": null,
      "metadata": {
        "id": "LQtT2fzkz-Ip",
        "outputId": "74030f54-b825-4c14-8e15-08e0250df03b"
      },
      "outputs": [
        {
          "data": {
            "text/plain": [
              "115"
            ]
          },
          "execution_count": 94,
          "metadata": {},
          "output_type": "execute_result"
        }
      ],
      "source": [
        ""
      ]
    },
    {
      "cell_type": "code",
      "execution_count": null,
      "metadata": {
        "id": "4MtbNm1Jz-Ip"
      },
      "outputs": [],
      "source": [
        ""
      ]
    }
  ],
  "metadata": {
    "accelerator": "TPU",
    "colab": {
      "collapsed_sections": [],
      "name": "colab.ipynb",
      "provenance": []
    },
    "kernelspec": {
      "display_name": "Python 3 (ipykernel)",
      "language": "python",
      "name": "python3"
    },
    "language_info": {
      "codemirror_mode": {
        "name": "ipython",
        "version": 3
      },
      "file_extension": ".py",
      "mimetype": "text/x-python",
      "name": "python",
      "nbconvert_exporter": "python",
      "pygments_lexer": "ipython3",
      "version": "3.10.4"
    }
  },
  "nbformat": 4,
  "nbformat_minor": 0
}