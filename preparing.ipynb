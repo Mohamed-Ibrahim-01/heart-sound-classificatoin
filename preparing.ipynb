{
 "cells": [
  {
   "cell_type": "code",
   "execution_count": null,
   "metadata": {},
   "outputs": [],
   "source": [
    "# path = df.iloc[0]['path']\n",
    "# y,sr = utils.plot_hs(path,dur=50)\n",
    "# print(records[0][0])\n",
    "# print(f\"y ={y}\")\n",
    "# signal = records[0][0]\n",
    "# samples = len(signal)\n",
    "# t = np.arange(samples) / 4000\n",
    "\n",
    "# # analytic_signal = hilbert(signal)\n",
    "# # amplitude_envelope = np.abs(analytic_signal)\n",
    "\n",
    "# fig, ax = plt.subplots(nrows=1, figsize=(20,4))\n",
    "\n",
    "# ax.plot(t, signal, label='signal')\n",
    "# # ax.plot(t, amplitude_envelope, label='envelope')\n",
    "# plt.show()"
   ]
  },
  {
   "cell_type": "code",
   "execution_count": 5,
   "metadata": {},
   "outputs": [],
   "source": [
    "# def normalize_records(records):\n",
    "#     for index ,record in enumerate(list(records)):\n",
    "#         records[index][0] = utils.normalize(record[0])\n",
    "# # normalize_records(records)"
   ]
  },
  {
   "cell_type": "code",
   "execution_count": 6,
   "metadata": {},
   "outputs": [
    {
     "data": {
      "text/plain": [
       "302"
      ]
     },
     "execution_count": 6,
     "metadata": {},
     "output_type": "execute_result"
    }
   ],
   "source": [
    "# number_of_ones = 0\n",
    "# for index,element in enumerate(records):\n",
    "#     if np.count_nonzero(element[0]==1) != 0:\n",
    "#         number_of_ones+=1\n",
    "# number_of_ones"
   ]
  },
  {
   "cell_type": "code",
   "execution_count": 9,
   "metadata": {},
   "outputs": [],
   "source": [
    "# import numpy as np\n",
    "# import matplotlib.pyplot as plt\n",
    "# from scipy.io import wavfile\n",
    "# from python_speech_features import mfcc, logfbank\n",
    "\n",
    "# frequency_sampling, audio_signal = \n",
    "# wavfile.read(\"/home/user/Downloads/OSR_us_000_0010_8k.wav\")\n",
    "\n",
    "# audio_signal = audio_signal[:15000]\n",
    "# features_mfcc = mfcc(segments[0][0], samplerate=4000,winlen=len(segments[0][0])/4000)\n",
    "# print('\\nMFCC:\\nNumber of windows =', features_mfcc.shape[0])\n",
    "# print('Length of each feature =', features_mfcc.shape[1])\n",
    "# print(features_mfcc.shape)\n",
    "# print(features_mfcc)"
   ]
  }
 ],
 "metadata": {
  "interpreter": {
   "hash": "bb38d5b4d08a2723439448612af8785ba68ac82fdd75f5df8cb82c641271b800"
  },
  "kernelspec": {
   "display_name": "Python 3.9.0 64-bit",
   "language": "python",
   "name": "python3"
  },
  "language_info": {
   "codemirror_mode": {
    "name": "ipython",
    "version": 3
   },
   "file_extension": ".py",
   "mimetype": "text/x-python",
   "name": "python",
   "nbconvert_exporter": "python",
   "pygments_lexer": "ipython3",
   "version": "3.9.0"
  },
  "orig_nbformat": 4
 },
 "nbformat": 4,
 "nbformat_minor": 2
}
