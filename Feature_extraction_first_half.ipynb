{
 "cells": [
  {
   "cell_type": "code",
   "execution_count": 13,
   "metadata": {},
   "outputs": [],
   "source": [
    "import numpy as np\n",
    "import scipy.stats\n",
    "import math"
   ]
  },
  {
   "cell_type": "code",
   "execution_count": 14,
   "metadata": {},
   "outputs": [],
   "source": [
    "def get_max_amplitude(signal):\n",
    "    return max(list(signal))"
   ]
  },
  {
   "cell_type": "code",
   "execution_count": 15,
   "metadata": {},
   "outputs": [],
   "source": [
    "def get_dominant_frequency(signal,sampling_rate):\n",
    "    fourier = np.fft.fft(signal)\n",
    "    frequencies = np.fft.fftfreq(signal.size, d=1.0/sampling_rate) \n",
    "    positive_frequencies = frequencies[np.where(frequencies >= 0)] \n",
    "    magnitudes = abs(fourier[np.where(frequencies >= 0)])\n",
    "    peak_frequency = np.argmax(magnitudes)\n",
    "    return positive_frequencies[peak_frequency]"
   ]
  },
  {
   "cell_type": "code",
   "execution_count": 16,
   "metadata": {},
   "outputs": [],
   "source": [
    "def get_entropy(signal):\n",
    "    number_of_bins = math.ceil(math.sqrt(len(signal))) \n",
    "    step = 1.0/number_of_bins\n",
    "    counts,_  = np.histogram(signal, bins=np.arange(0,1+step,step))\n",
    "    return scipy.stats.entropy(counts)"
   ]
  }
 ],
 "metadata": {
  "interpreter": {
   "hash": "bb38d5b4d08a2723439448612af8785ba68ac82fdd75f5df8cb82c641271b800"
  },
  "kernelspec": {
   "display_name": "Python 3.9.0 64-bit",
   "language": "python",
   "name": "python3"
  },
  "language_info": {
   "codemirror_mode": {
    "name": "ipython",
    "version": 3
   },
   "file_extension": ".py",
   "mimetype": "text/x-python",
   "name": "python",
   "nbconvert_exporter": "python",
   "pygments_lexer": "ipython3",
   "version": "3.9.0"
  },
  "orig_nbformat": 4
 },
 "nbformat": 4,
 "nbformat_minor": 2
}
