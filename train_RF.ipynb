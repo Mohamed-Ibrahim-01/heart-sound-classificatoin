{
  "nbformat": 4,
  "nbformat_minor": 0,
  "metadata": {
    "colab": {
      "name": "Untitled1.ipynb",
      "provenance": [],
      "collapsed_sections": []
    },
    "kernelspec": {
      "name": "python3",
      "display_name": "Python 3"
    },
    "language_info": {
      "name": "python"
    }
  },
  "cells": [
    {
      "cell_type": "code",
      "execution_count": null,
      "metadata": {
        "id": "Q1f4KCPmi2kl"
      },
      "outputs": [],
      "source": [
        "from sklearn.model_selection import GridSearchCV\n",
        "from sklearn.model_selection import train_test_split\n",
        "from sklearn import svm\n",
        "from sklearn.metrics import f1_score\n",
        "from sklearn.preprocessing import StandardScaler,MinMaxScaler\n",
        "from sklearn.ensemble import RandomForestClassifier\n",
        "from sklearn.metrics import plot_confusion_matrix\n",
        "import matplotlib.pyplot as plt\n",
        "import numpy as np\n",
        "import scipy.stats\n",
        "import math\n",
        "import librosa\n",
        "import pandas as pd"
      ]
    },
    {
      "cell_type": "code",
      "source": [
        "data = pd.read_csv(\"/content/data.csv\")\n",
        "data = data.drop(columns=[\"Unnamed: 0\"])\n",
        "data "
      ],
      "metadata": {
        "id": "c_jp1TTwi-nO"
      },
      "execution_count": null,
      "outputs": []
    },
    {
      "cell_type": "code",
      "source": [
        "X = data.iloc[:,:-1]\n",
        "y = data.iloc[:,-1]\n",
        "scaler = MinMaxScaler()\n",
        "X = scaler.fit_transform(X)\n",
        "X_train, X_test, y_train, y_test = train_test_split(X, y, test_size=0.25, random_state=0,shuffle=True)\n"
      ],
      "metadata": {
        "id": "WA3z0h0yjDYa"
      },
      "execution_count": null,
      "outputs": []
    },
    {
      "cell_type": "code",
      "source": [
        "X"
      ],
      "metadata": {
        "id": "lUrInmCKj8cy"
      },
      "execution_count": null,
      "outputs": []
    },
    {
      "cell_type": "code",
      "source": [
        "# SVC GridSearchCV\n",
        "parameters = {'kernel' : ('linear','poly', 'rbf'), 'C':np.arange(20,80,5)}\n",
        "svc = svm.SVC()\n",
        "clf_svm = GridSearchCV(svc, parameters)\n",
        "clf_svm.fit(X_train,y_train)\n",
        "print(clf_svm.best_params_)"
      ],
      "metadata": {
        "colab": {
          "base_uri": "https://localhost:8080/"
        },
        "id": "grzfVzzvleik",
        "outputId": "03f6578b-3956-440e-993d-00c7eb1b306d"
      },
      "execution_count": null,
      "outputs": [
        {
          "output_type": "stream",
          "name": "stdout",
          "text": [
            "{'C': 25, 'kernel': 'rbf'}\n"
          ]
        }
      ]
    },
    {
      "cell_type": "code",
      "source": [
        "# SVC Classifier\n",
        "svc = svm.SVC(kernel ='rbf',C=25)\n",
        "svc.fit(X_train,y_train)\n",
        "print(f\"Training score = {svc.score(X_train,y_train)}\")\n",
        "print(f\"Testing score  = {svc.score(X_test,y_test)}\")\n",
        "plot_confusion_matrix(svc, X_test, y_test) \n",
        "plt.show()"
      ],
      "metadata": {
        "colab": {
          "base_uri": "https://localhost:8080/",
          "height": 368
        },
        "id": "ManKmdOxlt0a",
        "outputId": "b5fd39f6-d02d-40ed-9a0d-8b7b3665a6d6"
      },
      "execution_count": null,
      "outputs": [
        {
          "output_type": "stream",
          "name": "stdout",
          "text": [
            "Training score = 0.9841269841269841\n",
            "Testing score  = 0.8412698412698413\n"
          ]
        },
        {
          "output_type": "stream",
          "name": "stderr",
          "text": [
            "/usr/local/lib/python3.7/dist-packages/sklearn/utils/deprecation.py:87: FutureWarning: Function plot_confusion_matrix is deprecated; Function `plot_confusion_matrix` is deprecated in 1.0 and will be removed in 1.2. Use one of the class methods: ConfusionMatrixDisplay.from_predictions or ConfusionMatrixDisplay.from_estimator.\n",
            "  warnings.warn(msg, category=FutureWarning)\n"
          ]
        },
        {
          "output_type": "display_data",
          "data": {
            "text/plain": [
              "<Figure size 432x288 with 2 Axes>"
            ],
            "image/png": "[encoded data removed]"
          },
          "metadata": {
            "needs_background": "light"
          }
        }
      ]
    },
    {
      "cell_type": "code",
      "source": [
        "# RFC GridSearchCV\n",
        "rfc = RandomForestClassifier()\n",
        "forest_params = [{'n_estimators':list(range(600, 800)),'max_depth': list(range(4, 15))}]\n",
        "clf_rfc = GridSearchCV(rfc, forest_params, cv = 10, scoring='f1_macro')\n",
        "clf_rfc.fit(X_train, y_train)\n",
        "print(clf_rfc.best_params_)\n"
      ],
      "metadata": {
        "id": "jqX0HcNSpo_p"
      },
      "execution_count": null,
      "outputs": []
    },
    {
      "cell_type": "code",
      "source": [
        "# RFC Classifier\n",
        "rfc = RandomForestClassifier(n_estimators=500, max_depth=4, random_state=0)\n",
        "rfc.fit(X_train,y_train)\n",
        "predictions = rfc.predict(X_test)\n",
        "print(f\"F1 score = {f1_score(y_test,predictions,average = 'macro')}\")\n",
        "# print(f\"Testing score  = {rfc.score(X_test,y_test)}\")\n",
        "plot_confusion_matrix(rfc, X_test, y_test) \n",
        "plt.show()\n"
      ],
      "metadata": {
        "colab": {
          "base_uri": "https://localhost:8080/",
          "height": 351
        },
        "id": "VrHyLm_Qp0zu",
        "outputId": "e24263c1-3b75-48fc-831d-fef3862551b0"
      },
      "execution_count": null,
      "outputs": [
        {
          "output_type": "stream",
          "name": "stdout",
          "text": [
            "F1 score = 0.5505605505605505\n"
          ]
        },
        {
          "output_type": "stream",
          "name": "stderr",
          "text": [
            "/usr/local/lib/python3.7/dist-packages/sklearn/utils/deprecation.py:87: FutureWarning: Function plot_confusion_matrix is deprecated; Function `plot_confusion_matrix` is deprecated in 1.0 and will be removed in 1.2. Use one of the class methods: ConfusionMatrixDisplay.from_predictions or ConfusionMatrixDisplay.from_estimator.\n",
            "  warnings.warn(msg, category=FutureWarning)\n"
          ]
        },
        {
          "output_type": "display_data",
          "data": {
            "text/plain": [
              "<Figure size 432x288 with 2 Axes>"
            ],
            "image/png": "[encoded data removed]"
          },
          "metadata": {
            "needs_background": "light"
          }
        }
      ]
    }
  ]
}